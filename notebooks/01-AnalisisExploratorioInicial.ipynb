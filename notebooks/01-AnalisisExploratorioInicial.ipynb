{
 "cells": [
  {
   "cell_type": "markdown",
   "id": "b423f3fb",
   "metadata": {},
   "source": [
    "<a href=\"https://colab.research.google.com/github/andres-merino/CNN-PollinatorDetector/blob/main/01-AnalisisExploratorioInicial.ipynb\" target=\"_parent\"><img src=\"https://colab.research.google.com/assets/colab-badge.svg\" alt=\"Open In Colab\"/></a>"
   ]
  },
  {
   "cell_type": "markdown",
   "id": "dfa89967",
   "metadata": {},
   "source": [
    "<table style=\"border: none; border-collapse: collapse;\">\n",
    "    <tr>\n",
    "        <td style=\"width: 20%; vertical-align: middle; padding-right: 10px;\">\n",
    "            <img src=\"https://i.imgur.com/nt7hloA.png\" width=\"100\">\n",
    "        </td>\n",
    "        <td style=\"width: 2px; text-align: center;\">\n",
    "            <font color=\"#0030A1\" size=\"7\">|</font><br>\n",
    "            <font color=\"#0030A1\" size=\"7\">|</font>\n",
    "        </td>\n",
    "        <td>\n",
    "            <p style=\"font-variant: small-caps;\"><font color=\"#0030A1\" size=\"5\">\n",
    "                <b>CNN-PollinatorDetector</b>\n",
    "            </font> </p>\n",
    "            <p style=\"font-variant: small-caps;\"><font color=\"#0030A1\" size=\"4\">\n",
    "                Análisis exploratorio inicial\n",
    "            </font></p>\n",
    "            <p style=\"font-style: oblique;\"><font color=\"#0030A1\" size=\"3\">\n",
    "                Andrés Merino - Arman Zargaran &bull; abril 2025\n",
    "            </font></p>\n",
    "        </td>  \n",
    "    </tr>\n",
    "</table>"
   ]
  },
  {
   "cell_type": "markdown",
   "id": "1fa2c6fb",
   "metadata": {},
   "source": [
    "---\n",
    "## <font color='264CC7'> Secciones </font>\n"
   ]
  },
  {
   "cell_type": "markdown",
   "id": "1c0f7d4b",
   "metadata": {},
   "source": [
    "Descripción..."
   ]
  },
  {
   "cell_type": "code",
   "execution_count": null,
   "id": "9585621a",
   "metadata": {},
   "outputs": [],
   "source": []
  }
 ],
 "metadata": {
  "kernelspec": {
   "display_name": "Python 3",
   "language": "python",
   "name": "python3"
  },
  "language_info": {
   "codemirror_mode": {
    "name": "ipython",
    "version": 3
   },
   "file_extension": ".py",
   "mimetype": "text/x-python",
   "name": "python",
   "nbconvert_exporter": "python",
   "pygments_lexer": "ipython3",
   "version": "3.12.3"
  }
 },
 "nbformat": 4,
 "nbformat_minor": 5
}
